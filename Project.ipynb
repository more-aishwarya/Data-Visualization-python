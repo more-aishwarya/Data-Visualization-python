{
 "cells": [
  {
   "cell_type": "code",
   "execution_count": null,
   "id": "a0de7d33",
   "metadata": {},
   "outputs": [],
   "source": [
    "import DataSetReader as ds"
   ]
  },
  {
   "cell_type": "code",
   "execution_count": null,
   "id": "b4817ac5",
   "metadata": {},
   "outputs": [],
   "source": [
    "obj = ds.DataSetReader()"
   ]
  },
  {
   "cell_type": "code",
   "execution_count": null,
   "id": "370cc071",
   "metadata": {},
   "outputs": [],
   "source": [
    "obj.read_data()"
   ]
  },
  {
   "cell_type": "code",
   "execution_count": null,
   "id": "2ceabc38",
   "metadata": {},
   "outputs": [],
   "source": [
    "obj.read_data_JSON()"
   ]
  },
  {
   "cell_type": "code",
   "execution_count": null,
   "id": "b5bcf6af",
   "metadata": {},
   "outputs": [],
   "source": [
    "obj.checkDataType()\n"
   ]
  },
  {
   "cell_type": "code",
   "execution_count": null,
   "id": "24cf74fd",
   "metadata": {},
   "outputs": [],
   "source": [
    "obj.drop_data()"
   ]
  },
  {
   "cell_type": "code",
   "execution_count": null,
   "id": "773cd5c5",
   "metadata": {},
   "outputs": [],
   "source": [
    "obj.missing_values()"
   ]
  },
  {
   "cell_type": "code",
   "execution_count": null,
   "id": "921aca0d",
   "metadata": {},
   "outputs": [],
   "source": [
    "obj.drop_duplicates()"
   ]
  },
  {
   "cell_type": "code",
   "execution_count": null,
   "id": "e73318a5",
   "metadata": {},
   "outputs": [],
   "source": [
    "obj.getHistogram()"
   ]
  },
  {
   "cell_type": "code",
   "execution_count": null,
   "id": "ab173e39",
   "metadata": {},
   "outputs": [],
   "source": [
    "obj.getBoxPlot()"
   ]
  },
  {
   "cell_type": "code",
   "execution_count": null,
   "id": "d95848c2",
   "metadata": {},
   "outputs": [],
   "source": [
    "obj.getPairPlot()"
   ]
  },
  {
   "cell_type": "code",
   "execution_count": null,
   "id": "4bc909ad",
   "metadata": {},
   "outputs": [],
   "source": [
    "obj.getHeatMap()"
   ]
  },
  {
   "cell_type": "code",
   "execution_count": null,
   "id": "7c0f599c",
   "metadata": {},
   "outputs": [],
   "source": [
    "obj.getScatterPlot()"
   ]
  },
  {
   "cell_type": "code",
   "execution_count": null,
   "id": "16ecedf0",
   "metadata": {},
   "outputs": [],
   "source": [
    "obj.getDataBasedOnQuery()"
   ]
  },
  {
   "cell_type": "code",
   "execution_count": null,
   "id": "f7ee28cc",
   "metadata": {},
   "outputs": [],
   "source": [
    "obj.mergeDataframes()"
   ]
  },
  {
   "cell_type": "code",
   "execution_count": null,
   "id": "b57f77a1",
   "metadata": {},
   "outputs": [],
   "source": [
    "obj.getMatrix()"
   ]
  },
  {
   "cell_type": "code",
   "execution_count": null,
   "id": "d15530fc",
   "metadata": {},
   "outputs": [],
   "source": [
    "obj.uploadNumericalDataToPython()"
   ]
  },
  {
   "cell_type": "code",
   "execution_count": null,
   "id": "46d0db52",
   "metadata": {},
   "outputs": [],
   "source": [
    "obj.sliceData_iloc()"
   ]
  },
  {
   "cell_type": "code",
   "execution_count": null,
   "id": "e66802c5",
   "metadata": {},
   "outputs": [],
   "source": [
    "obj.slice_data_loc()"
   ]
  },
  {
   "cell_type": "code",
   "execution_count": null,
   "id": "21b6275d",
   "metadata": {},
   "outputs": [],
   "source": [
    "obj.getDataBasedOnCondition()"
   ]
  },
  {
   "cell_type": "code",
   "execution_count": null,
   "id": "26c6b84d",
   "metadata": {},
   "outputs": [],
   "source": [
    "obj.calculateMean()"
   ]
  },
  {
   "cell_type": "code",
   "execution_count": null,
   "id": "a5513ab4",
   "metadata": {},
   "outputs": [],
   "source": [
    "obj.calculateMedian()"
   ]
  },
  {
   "cell_type": "code",
   "execution_count": null,
   "id": "318b4e45",
   "metadata": {},
   "outputs": [],
   "source": [
    "obj.calculateStandardDeviation()"
   ]
  },
  {
   "cell_type": "code",
   "execution_count": null,
   "id": "a4d207be",
   "metadata": {},
   "outputs": [],
   "source": [
    "obj.countRowsInDataFrame()"
   ]
  },
  {
   "cell_type": "code",
   "execution_count": null,
   "id": "05f2360c",
   "metadata": {},
   "outputs": [],
   "source": [
    "obj.calculateSumOfReviewCount()"
   ]
  },
  {
   "cell_type": "code",
   "execution_count": null,
   "id": "cec3129b",
   "metadata": {},
   "outputs": [],
   "source": [
    "obj.getMin()"
   ]
  },
  {
   "cell_type": "code",
   "execution_count": null,
   "id": "03fc1897",
   "metadata": {},
   "outputs": [],
   "source": [
    "obj.getMax()"
   ]
  },
  {
   "cell_type": "code",
   "execution_count": null,
   "id": "95a88c21",
   "metadata": {},
   "outputs": [],
   "source": [
    "obj.searchCourseByTitle()"
   ]
  },
  {
   "cell_type": "code",
   "execution_count": null,
   "id": "285cd154",
   "metadata": {},
   "outputs": [],
   "source": [
    "obj.argsfunc('Product Manager', 'Data Scientist') "
   ]
  },
  {
   "cell_type": "code",
   "execution_count": null,
   "id": "31ce1b61",
   "metadata": {},
   "outputs": [],
   "source": [
    "obj.kwargsfunc(Title = \"Data Scientist\", Type = \"nanodegree\" )\n"
   ]
  },
  {
   "cell_type": "code",
   "execution_count": null,
   "id": "f0a37255",
   "metadata": {},
   "outputs": [],
   "source": [
    "obj.getImageFromDataset()"
   ]
  },
  {
   "cell_type": "code",
   "execution_count": null,
   "id": "77a4ee85",
   "metadata": {},
   "outputs": [],
   "source": [
    "obj.topCourses()"
   ]
  }
 ],
 "metadata": {
  "kernelspec": {
   "display_name": "Python 3 (ipykernel)",
   "language": "python",
   "name": "python3"
  },
  "language_info": {
   "codemirror_mode": {
    "name": "ipython",
    "version": 3
   },
   "file_extension": ".py",
   "mimetype": "text/x-python",
   "name": "python",
   "nbconvert_exporter": "python",
   "pygments_lexer": "ipython3",
   "version": "3.9.13"
  }
 },
 "nbformat": 4,
 "nbformat_minor": 5
}
